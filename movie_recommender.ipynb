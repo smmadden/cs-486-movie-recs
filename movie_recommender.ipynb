{
 "cells": [
  {
   "cell_type": "markdown",
   "id": "48bf3702-525b-45ab-8ea3-00a87618ba86",
   "metadata": {},
   "source": [
    "# Movie Recommendation System\n",
    "\n",
    "### Dataset: [Movie Lens Small Latest Dataset](https://www.kaggle.com/shubhammehta21/movie-lens-small-latest-dataset)"
   ]
  },
  {
   "cell_type": "markdown",
   "id": "7a048fdd-46cb-4120-bc26-48df94a84ecf",
   "metadata": {
    "tags": []
   },
   "source": [
    "## Reading Kaggle Data\n",
    "\n",
    "We started with reading in the data from the Kaggle dataset into four Pandas DataFrames."
   ]
  },
  {
   "cell_type": "code",
   "execution_count": 1,
   "id": "7722f16c-ad02-4942-be0f-acc173355435",
   "metadata": {},
   "outputs": [
    {
     "data": {
      "text/html": [
       "<div>\n",
       "<style scoped>\n",
       "    .dataframe tbody tr th:only-of-type {\n",
       "        vertical-align: middle;\n",
       "    }\n",
       "\n",
       "    .dataframe tbody tr th {\n",
       "        vertical-align: top;\n",
       "    }\n",
       "\n",
       "    .dataframe thead th {\n",
       "        text-align: right;\n",
       "    }\n",
       "</style>\n",
       "<table border=\"1\" class=\"dataframe\">\n",
       "  <thead>\n",
       "    <tr style=\"text-align: right;\">\n",
       "      <th></th>\n",
       "      <th>movieId</th>\n",
       "      <th>title</th>\n",
       "      <th>genres</th>\n",
       "    </tr>\n",
       "  </thead>\n",
       "  <tbody>\n",
       "    <tr>\n",
       "      <th>0</th>\n",
       "      <td>1</td>\n",
       "      <td>Toy Story (1995)</td>\n",
       "      <td>Adventure|Animation|Children|Comedy|Fantasy</td>\n",
       "    </tr>\n",
       "    <tr>\n",
       "      <th>1</th>\n",
       "      <td>2</td>\n",
       "      <td>Jumanji (1995)</td>\n",
       "      <td>Adventure|Children|Fantasy</td>\n",
       "    </tr>\n",
       "    <tr>\n",
       "      <th>2</th>\n",
       "      <td>3</td>\n",
       "      <td>Grumpier Old Men (1995)</td>\n",
       "      <td>Comedy|Romance</td>\n",
       "    </tr>\n",
       "    <tr>\n",
       "      <th>3</th>\n",
       "      <td>4</td>\n",
       "      <td>Waiting to Exhale (1995)</td>\n",
       "      <td>Comedy|Drama|Romance</td>\n",
       "    </tr>\n",
       "    <tr>\n",
       "      <th>4</th>\n",
       "      <td>5</td>\n",
       "      <td>Father of the Bride Part II (1995)</td>\n",
       "      <td>Comedy</td>\n",
       "    </tr>\n",
       "    <tr>\n",
       "      <th>...</th>\n",
       "      <td>...</td>\n",
       "      <td>...</td>\n",
       "      <td>...</td>\n",
       "    </tr>\n",
       "    <tr>\n",
       "      <th>9737</th>\n",
       "      <td>193581</td>\n",
       "      <td>Black Butler: Book of the Atlantic (2017)</td>\n",
       "      <td>Action|Animation|Comedy|Fantasy</td>\n",
       "    </tr>\n",
       "    <tr>\n",
       "      <th>9738</th>\n",
       "      <td>193583</td>\n",
       "      <td>No Game No Life: Zero (2017)</td>\n",
       "      <td>Animation|Comedy|Fantasy</td>\n",
       "    </tr>\n",
       "    <tr>\n",
       "      <th>9739</th>\n",
       "      <td>193585</td>\n",
       "      <td>Flint (2017)</td>\n",
       "      <td>Drama</td>\n",
       "    </tr>\n",
       "    <tr>\n",
       "      <th>9740</th>\n",
       "      <td>193587</td>\n",
       "      <td>Bungo Stray Dogs: Dead Apple (2018)</td>\n",
       "      <td>Action|Animation</td>\n",
       "    </tr>\n",
       "    <tr>\n",
       "      <th>9741</th>\n",
       "      <td>193609</td>\n",
       "      <td>Andrew Dice Clay: Dice Rules (1991)</td>\n",
       "      <td>Comedy</td>\n",
       "    </tr>\n",
       "  </tbody>\n",
       "</table>\n",
       "<p>9742 rows × 3 columns</p>\n",
       "</div>"
      ],
      "text/plain": [
       "      movieId                                      title  \\\n",
       "0           1                           Toy Story (1995)   \n",
       "1           2                             Jumanji (1995)   \n",
       "2           3                    Grumpier Old Men (1995)   \n",
       "3           4                   Waiting to Exhale (1995)   \n",
       "4           5         Father of the Bride Part II (1995)   \n",
       "...       ...                                        ...   \n",
       "9737   193581  Black Butler: Book of the Atlantic (2017)   \n",
       "9738   193583               No Game No Life: Zero (2017)   \n",
       "9739   193585                               Flint (2017)   \n",
       "9740   193587        Bungo Stray Dogs: Dead Apple (2018)   \n",
       "9741   193609        Andrew Dice Clay: Dice Rules (1991)   \n",
       "\n",
       "                                           genres  \n",
       "0     Adventure|Animation|Children|Comedy|Fantasy  \n",
       "1                      Adventure|Children|Fantasy  \n",
       "2                                  Comedy|Romance  \n",
       "3                            Comedy|Drama|Romance  \n",
       "4                                          Comedy  \n",
       "...                                           ...  \n",
       "9737              Action|Animation|Comedy|Fantasy  \n",
       "9738                     Animation|Comedy|Fantasy  \n",
       "9739                                        Drama  \n",
       "9740                             Action|Animation  \n",
       "9741                                       Comedy  \n",
       "\n",
       "[9742 rows x 3 columns]"
      ]
     },
     "execution_count": 1,
     "metadata": {},
     "output_type": "execute_result"
    }
   ],
   "source": [
    "import pandas as pd\n",
    "import numpy as np\n",
    "import matplotlib.pyplot as plt\n",
    "\n",
    "from scipy.sparse import csr_matrix\n",
    "from sklearn.neighbors import NearestNeighbors\n",
    "\n",
    "movies_df = pd.read_csv('archive/movies.csv')\n",
    "ratings_df = pd.read_csv('archive/ratings.csv')\n",
    "tags_df = pd.read_csv('archive/tags.csv')\n",
    "links_df = pd.read_csv('archive/links.csv')\n",
    "movies_df"
   ]
  },
  {
   "cell_type": "markdown",
   "id": "0259daed-3676-4d0c-ad46-6e327a6d1ba7",
   "metadata": {},
   "source": [
    "**movies_df**: movieId, title, genres\n",
    "\n",
    "This DataFrame contains information on the movie and movie type."
   ]
  },
  {
   "cell_type": "code",
   "execution_count": 2,
   "id": "2655ca7a-ce33-467b-a42c-3b62857dddfb",
   "metadata": {},
   "outputs": [
    {
     "data": {
      "text/html": [
       "<div>\n",
       "<style scoped>\n",
       "    .dataframe tbody tr th:only-of-type {\n",
       "        vertical-align: middle;\n",
       "    }\n",
       "\n",
       "    .dataframe tbody tr th {\n",
       "        vertical-align: top;\n",
       "    }\n",
       "\n",
       "    .dataframe thead th {\n",
       "        text-align: right;\n",
       "    }\n",
       "</style>\n",
       "<table border=\"1\" class=\"dataframe\">\n",
       "  <thead>\n",
       "    <tr style=\"text-align: right;\">\n",
       "      <th></th>\n",
       "      <th>userId</th>\n",
       "      <th>movieId</th>\n",
       "      <th>rating</th>\n",
       "      <th>timestamp</th>\n",
       "    </tr>\n",
       "  </thead>\n",
       "  <tbody>\n",
       "    <tr>\n",
       "      <th>0</th>\n",
       "      <td>1</td>\n",
       "      <td>1</td>\n",
       "      <td>4.0</td>\n",
       "      <td>964982703</td>\n",
       "    </tr>\n",
       "    <tr>\n",
       "      <th>1</th>\n",
       "      <td>1</td>\n",
       "      <td>3</td>\n",
       "      <td>4.0</td>\n",
       "      <td>964981247</td>\n",
       "    </tr>\n",
       "    <tr>\n",
       "      <th>2</th>\n",
       "      <td>1</td>\n",
       "      <td>6</td>\n",
       "      <td>4.0</td>\n",
       "      <td>964982224</td>\n",
       "    </tr>\n",
       "    <tr>\n",
       "      <th>3</th>\n",
       "      <td>1</td>\n",
       "      <td>47</td>\n",
       "      <td>5.0</td>\n",
       "      <td>964983815</td>\n",
       "    </tr>\n",
       "    <tr>\n",
       "      <th>4</th>\n",
       "      <td>1</td>\n",
       "      <td>50</td>\n",
       "      <td>5.0</td>\n",
       "      <td>964982931</td>\n",
       "    </tr>\n",
       "    <tr>\n",
       "      <th>...</th>\n",
       "      <td>...</td>\n",
       "      <td>...</td>\n",
       "      <td>...</td>\n",
       "      <td>...</td>\n",
       "    </tr>\n",
       "    <tr>\n",
       "      <th>100831</th>\n",
       "      <td>610</td>\n",
       "      <td>166534</td>\n",
       "      <td>4.0</td>\n",
       "      <td>1493848402</td>\n",
       "    </tr>\n",
       "    <tr>\n",
       "      <th>100832</th>\n",
       "      <td>610</td>\n",
       "      <td>168248</td>\n",
       "      <td>5.0</td>\n",
       "      <td>1493850091</td>\n",
       "    </tr>\n",
       "    <tr>\n",
       "      <th>100833</th>\n",
       "      <td>610</td>\n",
       "      <td>168250</td>\n",
       "      <td>5.0</td>\n",
       "      <td>1494273047</td>\n",
       "    </tr>\n",
       "    <tr>\n",
       "      <th>100834</th>\n",
       "      <td>610</td>\n",
       "      <td>168252</td>\n",
       "      <td>5.0</td>\n",
       "      <td>1493846352</td>\n",
       "    </tr>\n",
       "    <tr>\n",
       "      <th>100835</th>\n",
       "      <td>610</td>\n",
       "      <td>170875</td>\n",
       "      <td>3.0</td>\n",
       "      <td>1493846415</td>\n",
       "    </tr>\n",
       "  </tbody>\n",
       "</table>\n",
       "<p>100836 rows × 4 columns</p>\n",
       "</div>"
      ],
      "text/plain": [
       "        userId  movieId  rating   timestamp\n",
       "0            1        1     4.0   964982703\n",
       "1            1        3     4.0   964981247\n",
       "2            1        6     4.0   964982224\n",
       "3            1       47     5.0   964983815\n",
       "4            1       50     5.0   964982931\n",
       "...        ...      ...     ...         ...\n",
       "100831     610   166534     4.0  1493848402\n",
       "100832     610   168248     5.0  1493850091\n",
       "100833     610   168250     5.0  1494273047\n",
       "100834     610   168252     5.0  1493846352\n",
       "100835     610   170875     3.0  1493846415\n",
       "\n",
       "[100836 rows x 4 columns]"
      ]
     },
     "execution_count": 2,
     "metadata": {},
     "output_type": "execute_result"
    }
   ],
   "source": [
    "ratings_df"
   ]
  },
  {
   "cell_type": "code",
   "execution_count": 3,
   "id": "7bf55a94-8162-498e-8efb-cfbc8e1f04f4",
   "metadata": {},
   "outputs": [
    {
     "data": {
      "text/html": [
       "<div>\n",
       "<style scoped>\n",
       "    .dataframe tbody tr th:only-of-type {\n",
       "        vertical-align: middle;\n",
       "    }\n",
       "\n",
       "    .dataframe tbody tr th {\n",
       "        vertical-align: top;\n",
       "    }\n",
       "\n",
       "    .dataframe thead th {\n",
       "        text-align: right;\n",
       "    }\n",
       "</style>\n",
       "<table border=\"1\" class=\"dataframe\">\n",
       "  <thead>\n",
       "    <tr style=\"text-align: right;\">\n",
       "      <th></th>\n",
       "      <th>userId</th>\n",
       "      <th>movieId</th>\n",
       "      <th>rating</th>\n",
       "      <th>timestamp</th>\n",
       "    </tr>\n",
       "  </thead>\n",
       "  <tbody>\n",
       "    <tr>\n",
       "      <th>count</th>\n",
       "      <td>100836.000000</td>\n",
       "      <td>100836.000000</td>\n",
       "      <td>100836.000000</td>\n",
       "      <td>1.008360e+05</td>\n",
       "    </tr>\n",
       "    <tr>\n",
       "      <th>mean</th>\n",
       "      <td>326.127564</td>\n",
       "      <td>19435.295718</td>\n",
       "      <td>3.501557</td>\n",
       "      <td>1.205946e+09</td>\n",
       "    </tr>\n",
       "    <tr>\n",
       "      <th>std</th>\n",
       "      <td>182.618491</td>\n",
       "      <td>35530.987199</td>\n",
       "      <td>1.042529</td>\n",
       "      <td>2.162610e+08</td>\n",
       "    </tr>\n",
       "    <tr>\n",
       "      <th>min</th>\n",
       "      <td>1.000000</td>\n",
       "      <td>1.000000</td>\n",
       "      <td>0.500000</td>\n",
       "      <td>8.281246e+08</td>\n",
       "    </tr>\n",
       "    <tr>\n",
       "      <th>25%</th>\n",
       "      <td>177.000000</td>\n",
       "      <td>1199.000000</td>\n",
       "      <td>3.000000</td>\n",
       "      <td>1.019124e+09</td>\n",
       "    </tr>\n",
       "    <tr>\n",
       "      <th>50%</th>\n",
       "      <td>325.000000</td>\n",
       "      <td>2991.000000</td>\n",
       "      <td>3.500000</td>\n",
       "      <td>1.186087e+09</td>\n",
       "    </tr>\n",
       "    <tr>\n",
       "      <th>75%</th>\n",
       "      <td>477.000000</td>\n",
       "      <td>8122.000000</td>\n",
       "      <td>4.000000</td>\n",
       "      <td>1.435994e+09</td>\n",
       "    </tr>\n",
       "    <tr>\n",
       "      <th>max</th>\n",
       "      <td>610.000000</td>\n",
       "      <td>193609.000000</td>\n",
       "      <td>5.000000</td>\n",
       "      <td>1.537799e+09</td>\n",
       "    </tr>\n",
       "  </tbody>\n",
       "</table>\n",
       "</div>"
      ],
      "text/plain": [
       "              userId        movieId         rating     timestamp\n",
       "count  100836.000000  100836.000000  100836.000000  1.008360e+05\n",
       "mean      326.127564   19435.295718       3.501557  1.205946e+09\n",
       "std       182.618491   35530.987199       1.042529  2.162610e+08\n",
       "min         1.000000       1.000000       0.500000  8.281246e+08\n",
       "25%       177.000000    1199.000000       3.000000  1.019124e+09\n",
       "50%       325.000000    2991.000000       3.500000  1.186087e+09\n",
       "75%       477.000000    8122.000000       4.000000  1.435994e+09\n",
       "max       610.000000  193609.000000       5.000000  1.537799e+09"
      ]
     },
     "execution_count": 3,
     "metadata": {},
     "output_type": "execute_result"
    }
   ],
   "source": [
    "ratings_df.describe()"
   ]
  },
  {
   "cell_type": "markdown",
   "id": "a7be886e-d9a9-4576-86b0-36ae44f2a3cf",
   "metadata": {},
   "source": [
    "**ratings_df**: userId, movieId, rating, timestamp\n",
    "\n",
    "This DataFrame contains all of the ratings for movies provided by the users, along with the timestamp of the rating. The ratings themselves are made on a 5-star scale in half-star increments (0.5 stars - 5.0 stars)."
   ]
  },
  {
   "cell_type": "code",
   "execution_count": 4,
   "id": "b2919c31-8c2d-4090-92a4-813baeeacd9a",
   "metadata": {},
   "outputs": [
    {
     "data": {
      "text/html": [
       "<div>\n",
       "<style scoped>\n",
       "    .dataframe tbody tr th:only-of-type {\n",
       "        vertical-align: middle;\n",
       "    }\n",
       "\n",
       "    .dataframe tbody tr th {\n",
       "        vertical-align: top;\n",
       "    }\n",
       "\n",
       "    .dataframe thead th {\n",
       "        text-align: right;\n",
       "    }\n",
       "</style>\n",
       "<table border=\"1\" class=\"dataframe\">\n",
       "  <thead>\n",
       "    <tr style=\"text-align: right;\">\n",
       "      <th></th>\n",
       "      <th>userId</th>\n",
       "      <th>movieId</th>\n",
       "      <th>tag</th>\n",
       "      <th>timestamp</th>\n",
       "    </tr>\n",
       "  </thead>\n",
       "  <tbody>\n",
       "    <tr>\n",
       "      <th>0</th>\n",
       "      <td>2</td>\n",
       "      <td>60756</td>\n",
       "      <td>funny</td>\n",
       "      <td>1445714994</td>\n",
       "    </tr>\n",
       "    <tr>\n",
       "      <th>1</th>\n",
       "      <td>2</td>\n",
       "      <td>60756</td>\n",
       "      <td>Highly quotable</td>\n",
       "      <td>1445714996</td>\n",
       "    </tr>\n",
       "    <tr>\n",
       "      <th>2</th>\n",
       "      <td>2</td>\n",
       "      <td>60756</td>\n",
       "      <td>will ferrell</td>\n",
       "      <td>1445714992</td>\n",
       "    </tr>\n",
       "    <tr>\n",
       "      <th>3</th>\n",
       "      <td>2</td>\n",
       "      <td>89774</td>\n",
       "      <td>Boxing story</td>\n",
       "      <td>1445715207</td>\n",
       "    </tr>\n",
       "    <tr>\n",
       "      <th>4</th>\n",
       "      <td>2</td>\n",
       "      <td>89774</td>\n",
       "      <td>MMA</td>\n",
       "      <td>1445715200</td>\n",
       "    </tr>\n",
       "    <tr>\n",
       "      <th>...</th>\n",
       "      <td>...</td>\n",
       "      <td>...</td>\n",
       "      <td>...</td>\n",
       "      <td>...</td>\n",
       "    </tr>\n",
       "    <tr>\n",
       "      <th>3678</th>\n",
       "      <td>606</td>\n",
       "      <td>7382</td>\n",
       "      <td>for katie</td>\n",
       "      <td>1171234019</td>\n",
       "    </tr>\n",
       "    <tr>\n",
       "      <th>3679</th>\n",
       "      <td>606</td>\n",
       "      <td>7936</td>\n",
       "      <td>austere</td>\n",
       "      <td>1173392334</td>\n",
       "    </tr>\n",
       "    <tr>\n",
       "      <th>3680</th>\n",
       "      <td>610</td>\n",
       "      <td>3265</td>\n",
       "      <td>gun fu</td>\n",
       "      <td>1493843984</td>\n",
       "    </tr>\n",
       "    <tr>\n",
       "      <th>3681</th>\n",
       "      <td>610</td>\n",
       "      <td>3265</td>\n",
       "      <td>heroic bloodshed</td>\n",
       "      <td>1493843978</td>\n",
       "    </tr>\n",
       "    <tr>\n",
       "      <th>3682</th>\n",
       "      <td>610</td>\n",
       "      <td>168248</td>\n",
       "      <td>Heroic Bloodshed</td>\n",
       "      <td>1493844270</td>\n",
       "    </tr>\n",
       "  </tbody>\n",
       "</table>\n",
       "<p>3683 rows × 4 columns</p>\n",
       "</div>"
      ],
      "text/plain": [
       "      userId  movieId               tag   timestamp\n",
       "0          2    60756             funny  1445714994\n",
       "1          2    60756   Highly quotable  1445714996\n",
       "2          2    60756      will ferrell  1445714992\n",
       "3          2    89774      Boxing story  1445715207\n",
       "4          2    89774               MMA  1445715200\n",
       "...      ...      ...               ...         ...\n",
       "3678     606     7382         for katie  1171234019\n",
       "3679     606     7936           austere  1173392334\n",
       "3680     610     3265            gun fu  1493843984\n",
       "3681     610     3265  heroic bloodshed  1493843978\n",
       "3682     610   168248  Heroic Bloodshed  1493844270\n",
       "\n",
       "[3683 rows x 4 columns]"
      ]
     },
     "execution_count": 4,
     "metadata": {},
     "output_type": "execute_result"
    }
   ],
   "source": [
    "tags_df"
   ]
  },
  {
   "cell_type": "markdown",
   "id": "087be3a0-3ede-4d30-9c06-775e88ea86e1",
   "metadata": {},
   "source": [
    "**tags_df**: userId, movieId, tag, timestamp\n",
    "\n",
    "This DataFrame contains the tags given to movies by users, usually single words or short phrases, along with the timestamp of these tags."
   ]
  },
  {
   "cell_type": "code",
   "execution_count": 5,
   "id": "aae20e0a-7c59-4715-82fa-1d453eb24ee2",
   "metadata": {},
   "outputs": [
    {
     "data": {
      "text/html": [
       "<div>\n",
       "<style scoped>\n",
       "    .dataframe tbody tr th:only-of-type {\n",
       "        vertical-align: middle;\n",
       "    }\n",
       "\n",
       "    .dataframe tbody tr th {\n",
       "        vertical-align: top;\n",
       "    }\n",
       "\n",
       "    .dataframe thead th {\n",
       "        text-align: right;\n",
       "    }\n",
       "</style>\n",
       "<table border=\"1\" class=\"dataframe\">\n",
       "  <thead>\n",
       "    <tr style=\"text-align: right;\">\n",
       "      <th></th>\n",
       "      <th>movieId</th>\n",
       "      <th>imdbId</th>\n",
       "      <th>tmdbId</th>\n",
       "    </tr>\n",
       "  </thead>\n",
       "  <tbody>\n",
       "    <tr>\n",
       "      <th>0</th>\n",
       "      <td>1</td>\n",
       "      <td>114709</td>\n",
       "      <td>862.0</td>\n",
       "    </tr>\n",
       "    <tr>\n",
       "      <th>1</th>\n",
       "      <td>2</td>\n",
       "      <td>113497</td>\n",
       "      <td>8844.0</td>\n",
       "    </tr>\n",
       "    <tr>\n",
       "      <th>2</th>\n",
       "      <td>3</td>\n",
       "      <td>113228</td>\n",
       "      <td>15602.0</td>\n",
       "    </tr>\n",
       "    <tr>\n",
       "      <th>3</th>\n",
       "      <td>4</td>\n",
       "      <td>114885</td>\n",
       "      <td>31357.0</td>\n",
       "    </tr>\n",
       "    <tr>\n",
       "      <th>4</th>\n",
       "      <td>5</td>\n",
       "      <td>113041</td>\n",
       "      <td>11862.0</td>\n",
       "    </tr>\n",
       "    <tr>\n",
       "      <th>...</th>\n",
       "      <td>...</td>\n",
       "      <td>...</td>\n",
       "      <td>...</td>\n",
       "    </tr>\n",
       "    <tr>\n",
       "      <th>9737</th>\n",
       "      <td>193581</td>\n",
       "      <td>5476944</td>\n",
       "      <td>432131.0</td>\n",
       "    </tr>\n",
       "    <tr>\n",
       "      <th>9738</th>\n",
       "      <td>193583</td>\n",
       "      <td>5914996</td>\n",
       "      <td>445030.0</td>\n",
       "    </tr>\n",
       "    <tr>\n",
       "      <th>9739</th>\n",
       "      <td>193585</td>\n",
       "      <td>6397426</td>\n",
       "      <td>479308.0</td>\n",
       "    </tr>\n",
       "    <tr>\n",
       "      <th>9740</th>\n",
       "      <td>193587</td>\n",
       "      <td>8391976</td>\n",
       "      <td>483455.0</td>\n",
       "    </tr>\n",
       "    <tr>\n",
       "      <th>9741</th>\n",
       "      <td>193609</td>\n",
       "      <td>101726</td>\n",
       "      <td>37891.0</td>\n",
       "    </tr>\n",
       "  </tbody>\n",
       "</table>\n",
       "<p>9742 rows × 3 columns</p>\n",
       "</div>"
      ],
      "text/plain": [
       "      movieId   imdbId    tmdbId\n",
       "0           1   114709     862.0\n",
       "1           2   113497    8844.0\n",
       "2           3   113228   15602.0\n",
       "3           4   114885   31357.0\n",
       "4           5   113041   11862.0\n",
       "...       ...      ...       ...\n",
       "9737   193581  5476944  432131.0\n",
       "9738   193583  5914996  445030.0\n",
       "9739   193585  6397426  479308.0\n",
       "9740   193587  8391976  483455.0\n",
       "9741   193609   101726   37891.0\n",
       "\n",
       "[9742 rows x 3 columns]"
      ]
     },
     "execution_count": 5,
     "metadata": {},
     "output_type": "execute_result"
    }
   ],
   "source": [
    "links_df"
   ]
  },
  {
   "cell_type": "markdown",
   "id": "1b70c9da-c4d7-4875-8e93-1bac8f3041d8",
   "metadata": {},
   "source": [
    "**links_df**: movieId, imdbId, tmdbId\n",
    "\n",
    "This DataFrame contains identifiers that can be used to link to other sources of movie data, namely IMDB and TMDB."
   ]
  },
  {
   "cell_type": "markdown",
   "id": "f6115eb2-fd76-47f2-8393-ce67cd7910bd",
   "metadata": {},
   "source": [
    "## Feature Engineering"
   ]
  },
  {
   "cell_type": "markdown",
   "id": "6bc89c2a-71ee-45a1-96c5-163d317f7d05",
   "metadata": {},
   "source": [
    "### links_df\n",
    "\n",
    "Because we are not dealing with other sources of movie data, we do not need to use any of the data contained in the links_df dataframe."
   ]
  },
  {
   "cell_type": "markdown",
   "id": "8f7834b7-ad2d-4488-9961-dfeb43517711",
   "metadata": {
    "jp-MarkdownHeadingCollapsed": true,
    "tags": []
   },
   "source": [
    "### tags_df\n",
    "\n",
    "For the tags_df, we wanted to look at how many tags the movies had in common versus how many were unique."
   ]
  },
  {
   "cell_type": "code",
   "execution_count": 6,
   "id": "1080f12a-b5b3-48bc-8799-f054dbdf60c5",
   "metadata": {},
   "outputs": [
    {
     "data": {
      "text/html": [
       "<div>\n",
       "<style scoped>\n",
       "    .dataframe tbody tr th:only-of-type {\n",
       "        vertical-align: middle;\n",
       "    }\n",
       "\n",
       "    .dataframe tbody tr th {\n",
       "        vertical-align: top;\n",
       "    }\n",
       "\n",
       "    .dataframe thead th {\n",
       "        text-align: right;\n",
       "    }\n",
       "</style>\n",
       "<table border=\"1\" class=\"dataframe\">\n",
       "  <thead>\n",
       "    <tr style=\"text-align: right;\">\n",
       "      <th></th>\n",
       "      <th>userId</th>\n",
       "      <th>movieId</th>\n",
       "      <th>tag</th>\n",
       "      <th>timestamp</th>\n",
       "    </tr>\n",
       "  </thead>\n",
       "  <tbody>\n",
       "    <tr>\n",
       "      <th>0</th>\n",
       "      <td>2</td>\n",
       "      <td>60756</td>\n",
       "      <td>funny</td>\n",
       "      <td>1445714994</td>\n",
       "    </tr>\n",
       "    <tr>\n",
       "      <th>1</th>\n",
       "      <td>2</td>\n",
       "      <td>60756</td>\n",
       "      <td>Highly quotable</td>\n",
       "      <td>1445714996</td>\n",
       "    </tr>\n",
       "    <tr>\n",
       "      <th>2</th>\n",
       "      <td>2</td>\n",
       "      <td>60756</td>\n",
       "      <td>will ferrell</td>\n",
       "      <td>1445714992</td>\n",
       "    </tr>\n",
       "    <tr>\n",
       "      <th>3</th>\n",
       "      <td>2</td>\n",
       "      <td>89774</td>\n",
       "      <td>Boxing story</td>\n",
       "      <td>1445715207</td>\n",
       "    </tr>\n",
       "    <tr>\n",
       "      <th>4</th>\n",
       "      <td>2</td>\n",
       "      <td>89774</td>\n",
       "      <td>MMA</td>\n",
       "      <td>1445715200</td>\n",
       "    </tr>\n",
       "    <tr>\n",
       "      <th>...</th>\n",
       "      <td>...</td>\n",
       "      <td>...</td>\n",
       "      <td>...</td>\n",
       "      <td>...</td>\n",
       "    </tr>\n",
       "    <tr>\n",
       "      <th>3678</th>\n",
       "      <td>606</td>\n",
       "      <td>7382</td>\n",
       "      <td>for katie</td>\n",
       "      <td>1171234019</td>\n",
       "    </tr>\n",
       "    <tr>\n",
       "      <th>3679</th>\n",
       "      <td>606</td>\n",
       "      <td>7936</td>\n",
       "      <td>austere</td>\n",
       "      <td>1173392334</td>\n",
       "    </tr>\n",
       "    <tr>\n",
       "      <th>3680</th>\n",
       "      <td>610</td>\n",
       "      <td>3265</td>\n",
       "      <td>gun fu</td>\n",
       "      <td>1493843984</td>\n",
       "    </tr>\n",
       "    <tr>\n",
       "      <th>3681</th>\n",
       "      <td>610</td>\n",
       "      <td>3265</td>\n",
       "      <td>heroic bloodshed</td>\n",
       "      <td>1493843978</td>\n",
       "    </tr>\n",
       "    <tr>\n",
       "      <th>3682</th>\n",
       "      <td>610</td>\n",
       "      <td>168248</td>\n",
       "      <td>Heroic Bloodshed</td>\n",
       "      <td>1493844270</td>\n",
       "    </tr>\n",
       "  </tbody>\n",
       "</table>\n",
       "<p>3683 rows × 4 columns</p>\n",
       "</div>"
      ],
      "text/plain": [
       "      userId  movieId               tag   timestamp\n",
       "0          2    60756             funny  1445714994\n",
       "1          2    60756   Highly quotable  1445714996\n",
       "2          2    60756      will ferrell  1445714992\n",
       "3          2    89774      Boxing story  1445715207\n",
       "4          2    89774               MMA  1445715200\n",
       "...      ...      ...               ...         ...\n",
       "3678     606     7382         for katie  1171234019\n",
       "3679     606     7936           austere  1173392334\n",
       "3680     610     3265            gun fu  1493843984\n",
       "3681     610     3265  heroic bloodshed  1493843978\n",
       "3682     610   168248  Heroic Bloodshed  1493844270\n",
       "\n",
       "[3683 rows x 4 columns]"
      ]
     },
     "execution_count": 6,
     "metadata": {},
     "output_type": "execute_result"
    }
   ],
   "source": [
    "tags_df"
   ]
  },
  {
   "cell_type": "code",
   "execution_count": 7,
   "id": "2ce408ab-d118-4027-94a5-2bc7ad42b037",
   "metadata": {},
   "outputs": [
    {
     "data": {
      "text/plain": [
       "in netflix queue     131\n",
       "atmospheric           41\n",
       "superhero             24\n",
       "thought-provoking     24\n",
       "surreal               24\n",
       "                    ... \n",
       "televangelist          1\n",
       "real estate            1\n",
       "tradition!             1\n",
       "confusing ending       1\n",
       "lies                   1\n",
       "Name: tag, Length: 1475, dtype: int64"
      ]
     },
     "execution_count": 7,
     "metadata": {},
     "output_type": "execute_result"
    }
   ],
   "source": [
    "tags_df.tag.apply(str.lower).value_counts()"
   ]
  },
  {
   "cell_type": "markdown",
   "id": "bdca1dc2-99b3-4c75-8fcd-5112658606ed",
   "metadata": {},
   "source": [
    "Given how few tags there were in common between the many movies in the dataset, we decided that the tags would not be useful to consider for our recommendation system."
   ]
  },
  {
   "cell_type": "markdown",
   "id": "b953a9ed-706c-436e-9264-568f97af0366",
   "metadata": {
    "jp-MarkdownHeadingCollapsed": true,
    "tags": []
   },
   "source": [
    "### movie_df\n",
    "\n",
    "Next, we will use one-hot encoding to split the movies_df _genres_ column into one column for every possible genre to help visualize the movie data."
   ]
  },
  {
   "cell_type": "code",
   "execution_count": null,
   "id": "b6a1bceb-907e-461a-9dbf-5984f110baef",
   "metadata": {},
   "outputs": [],
   "source": [
    "genre_labels = ['Action', 'Adventure', 'Animation', 'Children', 'Comedy', 'Crime', 'Documentary', 'Drama', 'Fantasy', \n",
    "          'Film-Noir', 'Horror', 'Musical', 'Mystery', 'Romance', 'Sci-Fi', 'Thriller', 'War', 'Western', 'IMAX', '(no genres listed)']\n",
    "\n",
    "movies_df[genre_labels] = 0\n",
    "for i in range(len(movies_df)):\n",
    "    row = movies_df.iloc[i,:]\n",
    "    genres = row['genres'].split('|')\n",
    "    for genre in genres:\n",
    "        movies_df.loc[i, genre] = 1\n",
    "movies_df.drop(columns=['genres'], inplace=True, axis=1)\n",
    "movies_df"
   ]
  },
  {
   "cell_type": "markdown",
   "id": "dc34b5fc-5e4b-4fe2-a200-b11430a8fb43",
   "metadata": {
    "tags": []
   },
   "source": [
    "### ratings_df\n",
    "\n",
    "Now, we want to clear up the data in the ratings dataframe. Instead of one row for every rating, we wanted to have a clearer look at the individual users and what ratings they gave for each movie. To do this, we created a new dataframe where each column represents each unique userId and each row represents each unique movieId."
   ]
  },
  {
   "cell_type": "code",
   "execution_count": null,
   "id": "1034a5b2-9f5f-43d0-a0e6-a06e86b941e1",
   "metadata": {},
   "outputs": [],
   "source": [
    "ratings_df"
   ]
  },
  {
   "cell_type": "code",
   "execution_count": null,
   "id": "69f6c070-4c67-4dfc-8fcb-84cca8a4650a",
   "metadata": {},
   "outputs": [],
   "source": [
    "user_movie_ratings = ratings_df.pivot(index='movieId',columns='userId',values='rating')\n",
    "user_movie_ratings.fillna(0,inplace=True)\n",
    "user_movie_ratings"
   ]
  },
  {
   "cell_type": "markdown",
   "id": "285fe6d3-75e7-4e10-ac06-214df776f1c1",
   "metadata": {},
   "source": [
    "For every cell where a user did not leave a rating for a movie, we filled in the cell with 0.0."
   ]
  },
  {
   "cell_type": "markdown",
   "id": "4ce14789-8254-420f-a166-b939b797581b",
   "metadata": {},
   "source": [
    "We decided that this dataframe is the most useful for recommending new movies because it correlates users with movies that they have rated through the columns along with correlating the users that have rated movies similarly through the rows. From there we can extrapolate which ones would be best suited as new recommendations for the user using a version of collaborative filtering.\n",
    "\n",
    "So, our next step is to continue cleaning up the dataframe. First we want to look at the number of ratings each movie has gotten and the number of ratings each user has given."
   ]
  },
  {
   "cell_type": "code",
   "execution_count": null,
   "id": "13917d98-9a80-4a8a-9907-cdb2413e5bba",
   "metadata": {},
   "outputs": [],
   "source": [
    "n_movie_ratings = ratings_df.groupby('movieId')['rating'].agg('count')\n",
    "n_user_ratings = ratings_df.groupby('userId')['rating'].agg('count')\n",
    "print(\"Number of ratings each movie has gotten:\\n\", n_movie_ratings)\n",
    "print()\n",
    "print(\"Number of ratings each user has given:\\n\", n_user_ratings)"
   ]
  },
  {
   "cell_type": "code",
   "execution_count": null,
   "id": "595e549e-1080-4bce-bf4d-f18a6c3191b5",
   "metadata": {},
   "outputs": [],
   "source": [
    "n_movie_ratings.describe()"
   ]
  },
  {
   "cell_type": "markdown",
   "id": "734e95c1-cb10-4b0f-b50b-a3b2a96992b5",
   "metadata": {},
   "source": [
    "The minimum number of ratings given to a movie is 1, which is useless to the recommendation system because it only takes into account the opinion of one user rather than many and is not very credible. As a threshold, we chose 16, which is halfway between the mean and the standard deviation, and is a reasonable number of ratings for one movie to be credible and leaves us with enough movies to have a comprehensive recommendation system."
   ]
  },
  {
   "cell_type": "code",
   "execution_count": null,
   "id": "22ee6cf8-a7d4-4a6a-b9d6-0e9b19387cd3",
   "metadata": {},
   "outputs": [],
   "source": [
    "# number of movies left after threshold cutoff\n",
    "movie_threshold = 16\n",
    "len([i for i in n_movie_ratings if i > movie_threshold])"
   ]
  },
  {
   "cell_type": "code",
   "execution_count": null,
   "id": "1a7f1b32-800d-4fcf-9713-7a2ee32f4455",
   "metadata": {},
   "outputs": [],
   "source": [
    "plt.subplots(1,1,figsize=(16,4))\n",
    "plt.scatter(n_movie_ratings.index, n_movie_ratings)\n",
    "plt.axhline(y=movie_threshold, color='r')\n",
    "plt.xlabel('MovieId')\n",
    "plt.ylabel('Number of Ratings')\n",
    "plt.title('Ratings per Movie')\n",
    "plt.show()"
   ]
  },
  {
   "cell_type": "code",
   "execution_count": null,
   "id": "5c7f5a2a-5c65-437e-b87e-0d9bd21da701",
   "metadata": {},
   "outputs": [],
   "source": [
    "n_user_ratings.describe()"
   ]
  },
  {
   "cell_type": "markdown",
   "id": "e5fe154b-b2b6-4699-a39f-04bcf9f4eacc",
   "metadata": {},
   "source": [
    "Here, the minimum number of movies that one user has rated is 20, while the maximum is 2698 and the mean is 165. Given how many movies the majority of the users have rated, 20 is also too small of a number to provide useful data for our recommendation system. Because there are not as many users in this dataset, however, instead of finding a number between the mean and standard deviation, we chose 60. This is because this is a relatively reasonable number of movies for a user to have seen and reviewed to get a good sense of their preferences but still doesn't reduce the data too much."
   ]
  },
  {
   "cell_type": "code",
   "execution_count": null,
   "id": "0bbd8d73-de02-444f-a4e9-d16a50594259",
   "metadata": {},
   "outputs": [],
   "source": [
    "# number of users left after threshold cutoff\n",
    "user_threshold = 60\n",
    "len([i for i in n_user_ratings if i > user_threshold])"
   ]
  },
  {
   "cell_type": "code",
   "execution_count": null,
   "id": "249733da-d6f9-4b55-910c-216b3467602e",
   "metadata": {},
   "outputs": [],
   "source": [
    "plt.subplots(1,1,figsize=(16,4))\n",
    "plt.scatter(n_user_ratings.index, n_user_ratings)\n",
    "plt.axhline(y=user_threshold, color='r')\n",
    "plt.xlabel('UserId')\n",
    "plt.ylabel('Number of Ratings')\n",
    "plt.title('Ratings per User')\n",
    "plt.show()"
   ]
  },
  {
   "cell_type": "markdown",
   "id": "6425d034-5877-4bc5-a733-c87fd6de9be3",
   "metadata": {
    "tags": []
   },
   "source": [
    "Now, by reducing some of the noise in the data, hopefully we will get a more accurate model."
   ]
  },
  {
   "cell_type": "code",
   "execution_count": null,
   "id": "71795883-f4ea-4ef6-9d47-1123178bf4a8",
   "metadata": {},
   "outputs": [],
   "source": [
    "df = user_movie_ratings.loc[n_movie_ratings[n_movie_ratings > movie_threshold].index,:]\n",
    "df = df.loc[:,n_user_ratings[n_user_ratings > user_threshold].index]\n",
    "df"
   ]
  },
  {
   "cell_type": "markdown",
   "id": "f90e5065-1167-4cc9-aab8-1e7d9e6739d3",
   "metadata": {},
   "source": [
    "## KNN Algorithm"
   ]
  },
  {
   "cell_type": "markdown",
   "id": "917fff31-de27-4df6-8125-721388bee0f7",
   "metadata": {},
   "source": [
    "Now that our data is ready, now we will move onto creating our algorithm. We chose the K-Nearest Neighbors algorithm because we wanted our system to be based on finding the similarities between the movies and the ratings given to them by users, not necessarily categorizing them by any of their features. We knew that KNN is insensitive to outliers, which our data may have quite a few of based on the graphs above, and there are also no set decision boundaries and the output is easy to interpret as a list of movies. We considered random forest, but we know that algorithm is more sensitive to outliers and to noisy datasets, and we did not want to run the risk of overfitting to any of our data."
   ]
  },
  {
   "cell_type": "code",
   "execution_count": null,
   "id": "26aa0143-1c78-4d59-849a-026ac424f94a",
   "metadata": {},
   "outputs": [],
   "source": [
    "knn = NearestNeighbors(n_neighbors=20)\n",
    "knn.fit(df)"
   ]
  },
  {
   "cell_type": "code",
   "execution_count": null,
   "id": "c7a0a43a-e976-48fe-bbcf-5f0f3ec1d4c9",
   "metadata": {},
   "outputs": [],
   "source": [
    "def recommend_n_movies(df, movie_name, n):\n",
    "    # get a list of all of the movies with the movie name in the title\n",
    "    movie_list = movies_df[movies_df['title'].str.contains(movie_name)]\n",
    "    # if the movie doesn't exist in the data, we cannot provide a recommendation\n",
    "    if len(movie_list):\n",
    "        movie_id = movie_list.iloc[0]['movieId']\n",
    "        if (df.index == movie_id).any():\n",
    "            distances, indices = knn.kneighbors(df.loc[movie_id:movie_id, :], n_neighbors=n + 1)\n",
    "            rec_movie_indices = sorted(list(zip(indices.squeeze().tolist(),distances.squeeze().tolist())), key=lambda x: x[1])[1:]\n",
    "            recommendations = []\n",
    "            for val in rec_movie_indices:\n",
    "                recommendations.append({'Title':movies_df.iloc[val[0]]['title'],'Distance':val[1]})\n",
    "            movies = pd.DataFrame(recommendations, index=range(1, n + 1))\n",
    "            return movies\n",
    "    return \"Movie not found in database.\""
   ]
  },
  {
   "cell_type": "code",
   "execution_count": null,
   "id": "6af08fbe-4ed3-44e6-969c-9c3d6d8cc646",
   "metadata": {},
   "outputs": [],
   "source": [
    "recommend_n_movies(df, \"Iron Man\", 10)"
   ]
  },
  {
   "cell_type": "markdown",
   "id": "d9730dcf-51a2-458d-9ab8-0ce4aaf283f3",
   "metadata": {},
   "source": [
    "These results did not make a lot of sense to us, so we took another look at our data and realized that most of the values in the dataframe are zeros. We were thinking that this may throw off our model and cause these random recommendations. To fix this, we did some research and found a package from the scipy library that deals with sparse values."
   ]
  },
  {
   "cell_type": "code",
   "execution_count": null,
   "id": "d17ba18a-6a3e-4a7c-8873-d0b75fc3b8d4",
   "metadata": {},
   "outputs": [],
   "source": [
    "csr_data = csr_matrix(df.values)\n",
    "df_reduced = df.reset_index()"
   ]
  },
  {
   "cell_type": "code",
   "execution_count": null,
   "id": "2a30f452-fc15-4df0-bc4c-3835b7198fdc",
   "metadata": {},
   "outputs": [],
   "source": [
    "df_reduced"
   ]
  },
  {
   "cell_type": "code",
   "execution_count": null,
   "id": "369ebcb2-cd6c-421e-89a3-0e7b8d56af41",
   "metadata": {},
   "outputs": [],
   "source": [
    "knn = NearestNeighbors(n_neighbors=20)\n",
    "knn.fit(csr_data)"
   ]
  },
  {
   "cell_type": "code",
   "execution_count": null,
   "id": "80d8437c-4ac0-46a9-b918-757d398f56b0",
   "metadata": {},
   "outputs": [],
   "source": [
    "def recommend_n_movies(df, movie_name, n):\n",
    "    movie_list = movies_df[movies_df['title'].str.contains(movie_name)]\n",
    "    if len(movie_list):\n",
    "        movie_id = movie_list.iloc[0]['movieId']\n",
    "        if (df.movieId == movie_id).any():\n",
    "            movie_id = df[df['movieId'] == movie_id].index[0]\n",
    "            distances, indices = knn.kneighbors(csr_data[movie_id],n_neighbors=n + 1)\n",
    "            rec_movie_indices = sorted(list(zip(indices.squeeze().tolist(),distances.squeeze().tolist())), key=lambda x: x[1])[1:]\n",
    "            recommendations = []\n",
    "            for val in rec_movie_indices:\n",
    "                movie_id = df.iloc[val[0]]['movieId']\n",
    "                idx = movies_df[movies_df['movieId'] == movie_id].index\n",
    "                recommendations.append({'Title':movies_df.iloc[idx]['title'].values[0], 'Distance':val[1]})\n",
    "            movies = pd.DataFrame(recommendations, index=range(1, n + 1))\n",
    "            return movies\n",
    "    return \"Movie not found in database.\""
   ]
  },
  {
   "cell_type": "code",
   "execution_count": null,
   "id": "d15d4378-6a3c-4ecd-8661-ca849b96cbf2",
   "metadata": {},
   "outputs": [],
   "source": [
    "recommend_n_movies(df_reduced, \"Iron Man\", 10)"
   ]
  },
  {
   "cell_type": "markdown",
   "id": "f94c4a43-6e4d-4be6-94b6-fc4bc6892668",
   "metadata": {},
   "source": [
    "These results make a lot more sense, knowing what the Iron Man movie is about and the similarities it has to the movies in this new list. Below are more examples of our recommendation system working."
   ]
  },
  {
   "cell_type": "code",
   "execution_count": null,
   "id": "ac4effc9-f65d-4850-b431-c65826c45918",
   "metadata": {},
   "outputs": [],
   "source": [
    "recommend_n_movies(df_reduced, \"Jumanji\", 10)"
   ]
  },
  {
   "cell_type": "code",
   "execution_count": null,
   "id": "3805f4ff-533e-496c-82da-671452f63923",
   "metadata": {},
   "outputs": [],
   "source": [
    "recommend_n_movies(df_reduced, \"Snow White\", 5)"
   ]
  },
  {
   "cell_type": "code",
   "execution_count": null,
   "id": "b6dab36f-bfd1-4cc0-8550-fa6dfab10972",
   "metadata": {},
   "outputs": [],
   "source": [
    "recommend_n_movies(df_reduced, \"Matrix\", 20)"
   ]
  },
  {
   "cell_type": "markdown",
   "id": "5c6fad04-e147-4d69-abc6-161232ea0e85",
   "metadata": {},
   "source": [
    "Below are examples of when the movie does not exist or the number of ratings does not meet the threshold."
   ]
  },
  {
   "cell_type": "code",
   "execution_count": null,
   "id": "42d1a2a6-f567-415c-a2ee-7f8c36f42f9b",
   "metadata": {},
   "outputs": [],
   "source": [
    "recommend_n_movies(df_reduced, \"Captain America\", 10)"
   ]
  },
  {
   "cell_type": "code",
   "execution_count": null,
   "id": "4b281a19-c9aa-439b-8911-89d27e53b0b1",
   "metadata": {},
   "outputs": [],
   "source": [
    "recommend_n_movies(df_reduced, \"does not exist\", 5)"
   ]
  },
  {
   "cell_type": "code",
   "execution_count": null,
   "id": "fc1d2667-0d60-41ee-927c-688026ff149e",
   "metadata": {},
   "outputs": [],
   "source": [
    "recommend_n_movies(df_reduced, \"Wonder Woman\", 5)"
   ]
  }
 ],
 "metadata": {
  "kernelspec": {
   "display_name": "Python 3 (ipykernel)",
   "language": "python",
   "name": "python3"
  },
  "language_info": {
   "codemirror_mode": {
    "name": "ipython",
    "version": 3
   },
   "file_extension": ".py",
   "mimetype": "text/x-python",
   "name": "python",
   "nbconvert_exporter": "python",
   "pygments_lexer": "ipython3",
   "version": "3.9.0"
  }
 },
 "nbformat": 4,
 "nbformat_minor": 5
}
